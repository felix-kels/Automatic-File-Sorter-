{
 "cells": [
  {
   "cell_type": "code",
   "execution_count": 70,
   "id": "03003759",
   "metadata": {},
   "outputs": [],
   "source": [
    "import os, shutil"
   ]
  },
  {
   "cell_type": "code",
   "execution_count": 66,
   "id": "184de5d9",
   "metadata": {},
   "outputs": [],
   "source": [
    "path = \"C:/Users/Work/Desktop/PythonProject/\""
   ]
  },
  {
   "cell_type": "code",
   "execution_count": 67,
   "id": "8144201a",
   "metadata": {},
   "outputs": [],
   "source": [
    "file_name = os.listdir(path)"
   ]
  },
  {
   "cell_type": "code",
   "execution_count": null,
   "id": "18169ce1",
   "metadata": {},
   "outputs": [],
   "source": []
  },
  {
   "cell_type": "code",
   "execution_count": 68,
   "id": "3b946d4d",
   "metadata": {},
   "outputs": [],
   "source": [
    "folder_names = ['pdf files', 'image files', 'doc files', 'spreadsheet files']\n",
    "\n",
    "for loop in range(0,4):\n",
    "    if not os.path.exists(path + folder_names[loop]):\n",
    "        os.makedirs(path + folder_names[loop])"
   ]
  },
  {
   "cell_type": "code",
   "execution_count": 69,
   "id": "a343eeae",
   "metadata": {},
   "outputs": [],
   "source": [
    "# Writing a script that will check the type of file and put it on the right folder\n",
    "\n",
    "for file in file_name:\n",
    "    if \".pdf\" in file and not os.path.exists(path + \"pdf files/\" + file):\n",
    "        shutil.move(path + file, path + \"pdf files/\" + file)\n",
    "    elif \".jpeg\" in file and not os.path.exists(path + \"image files/\" + file):\n",
    "        shutil.move(path + file, path + \"image files/\" + file)\n",
    "    elif \".doc\" in file and not os.path.exists(path + \"doc files/\" + file):\n",
    "        shutil.move(path + file, path + \"doc files/\" + file)\n",
    "    elif \".jpg\" in file and not os.path.exists(path + \"image files/\" + file):\n",
    "        shutil.move(path + file, path + \"image files/\" + file)\n",
    "    elif \".jfif\" in file and not os.path.exists(path + \"image files/\" + file):\n",
    "        shutil.move(path + file, path + \"image files/\" + file)\n",
    "    elif \".xlsx\" in file and not os.path.exists(path + \"spreadsheet files/\" + file):\n",
    "        shutil.move(path + file, path + \"spreadsheet files/\" + file)\n",
    "    elif \".csv\" in file and not os.path.exists(path + \"spreadsheet files/\" + file):\n",
    "        shutil.move(path + file, path + \"spreadsheet files/\" + file)\n",
    "    \n"
   ]
  },
  {
   "cell_type": "code",
   "execution_count": null,
   "id": "e32c357b",
   "metadata": {},
   "outputs": [],
   "source": []
  },
  {
   "cell_type": "code",
   "execution_count": null,
   "id": "f206d3ac",
   "metadata": {},
   "outputs": [],
   "source": []
  }
 ],
 "metadata": {
  "kernelspec": {
   "display_name": "Python 3 (ipykernel)",
   "language": "python",
   "name": "python3"
  },
  "language_info": {
   "codemirror_mode": {
    "name": "ipython",
    "version": 3
   },
   "file_extension": ".py",
   "mimetype": "text/x-python",
   "name": "python",
   "nbconvert_exporter": "python",
   "pygments_lexer": "ipython3",
   "version": "3.9.13"
  }
 },
 "nbformat": 4,
 "nbformat_minor": 5
}
